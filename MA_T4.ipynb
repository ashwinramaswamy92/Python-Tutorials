{
  "nbformat": 4,
  "nbformat_minor": 0,
  "metadata": {
    "colab": {
      "name": "MA_T4.ipynb",
      "provenance": [],
      "authorship_tag": "ABX9TyMgEl8aaq3BcqOXbEsXQ0EO",
      "include_colab_link": true
    },
    "kernelspec": {
      "name": "python3",
      "display_name": "Python 3"
    }
  },
  "cells": [
    {
      "cell_type": "markdown",
      "metadata": {
        "id": "view-in-github",
        "colab_type": "text"
      },
      "source": [
        "<a href=\"https://colab.research.google.com/github/ashwinramaswamy92/Python-Tutorials/blob/master/MA_T4.ipynb\" target=\"_parent\"><img src=\"https://colab.research.google.com/assets/colab-badge.svg\" alt=\"Open In Colab\"/></a>"
      ]
    },
    {
      "cell_type": "markdown",
      "metadata": {
        "id": "MWeM-8oKZsiu"
      },
      "source": [
        "#Practice Problems\n",
        "\n",
        "In this session we will address unsolved exercises so far, and some new additional exercises on things we have already learned.\n",
        "\n",
        "<h3> Exercise 1 </h3>\n",
        "\n",
        "Write a program that takes as input an integer, and prints out its multiplication table till x 20.\n"
      ]
    },
    {
      "cell_type": "code",
      "metadata": {
        "id": "v7D7mvqWcBaI"
      },
      "source": [
        ""
      ],
      "execution_count": null,
      "outputs": []
    },
    {
      "cell_type": "markdown",
      "metadata": {
        "id": "OGfmu0u5eznC"
      },
      "source": [
        "\n",
        "**SAMPLE OUTPUT:**\n",
        "```\n",
        "Enter a number, good user: 3\n",
        "\n",
        "3 x 1 = 3\n",
        "3 x 2 = 6\n",
        ".\n",
        ".\n",
        ".\n",
        "3 x 20 = 60\n",
        "```\n",
        "&nbsp;\n"
      ]
    },
    {
      "cell_type": "markdown",
      "metadata": {
        "id": "CH-QxRZrfOH7"
      },
      "source": [
        "\n",
        "<h3> Exercise 2 </h3>\n",
        "\n",
        "Create a list of even non-negative integers upto and including 300. Out of these, print the numbers divisible by 5 and less than 151.\n",
        "\n",
        "**Some tips:**\n",
        "\n",
        "1. We know how to use the range() function to create a range object containing a number sequence. To convert a range to a list use: ```list(range(a,b,c))```.\n",
        "\n",
        "2. In a loop if you use the ```break``` statement, the loop will be exited. \n",
        "For example:\n",
        "```\n",
        "for i in range(20):\n",
        "  print(i)\n",
        "  if(i > 15):\n",
        "  break\n",
        "print(i)\n",
        "```\n",
        "\n",
        "Run this and notice how the loop ends prematurely. This can help save time and avoid unnecessary repetition."
      ]
    },
    {
      "cell_type": "code",
      "metadata": {
        "id": "qn-gYivfl77X"
      },
      "source": [
        ""
      ],
      "execution_count": null,
      "outputs": []
    },
    {
      "cell_type": "markdown",
      "metadata": {
        "id": "705O60iXl1lQ"
      },
      "source": [
        "&nbsp;\n",
        "\n",
        "<h3> Exercise 3 </h3>\n",
        "\n",
        "Write a recursive function that takes an input positive integer n, and returns the sum of integers from 0 to n (inclusive). Eg: if the input is 10, the sum of all integers from 0 to 10 is 255."
      ]
    },
    {
      "cell_type": "code",
      "metadata": {
        "id": "fiCVUcjhfKLp"
      },
      "source": [
        ""
      ],
      "execution_count": null,
      "outputs": []
    },
    {
      "cell_type": "markdown",
      "metadata": {
        "id": "SlXtJygtfVpE"
      },
      "source": [
        "<h3> Exercise 4 </h3>\n",
        "\n",
        "Write a recursive function that takes as input a positive integer n, and returns the fibonnacci sequence with the first n elements.\n"
      ]
    },
    {
      "cell_type": "code",
      "metadata": {
        "id": "Hq8woeeuqqqK"
      },
      "source": [
        ""
      ],
      "execution_count": null,
      "outputs": []
    }
  ]
}