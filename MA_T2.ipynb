{
  "nbformat": 4,
  "nbformat_minor": 0,
  "metadata": {
    "colab": {
      "name": "MA_T2.ipynb",
      "provenance": [],
      "collapsed_sections": [],
      "toc_visible": true,
      "authorship_tag": "ABX9TyNNC9sV1QFecktiUuQSy/Cn",
      "include_colab_link": true
    },
    "kernelspec": {
      "name": "python3",
      "display_name": "Python 3"
    }
  },
  "cells": [
    {
      "cell_type": "markdown",
      "metadata": {
        "id": "view-in-github",
        "colab_type": "text"
      },
      "source": [
        "<a href=\"https://colab.research.google.com/github/ashwinramaswamy92/Python-Tutorials/blob/master/MA_T2.ipynb\" target=\"_parent\"><img src=\"https://colab.research.google.com/assets/colab-badge.svg\" alt=\"Open In Colab\"/></a>"
      ]
    },
    {
      "cell_type": "markdown",
      "metadata": {
        "id": "DzLEgPvMhAqk"
      },
      "source": [
        "<h1> Day 2 - Conditionals, Loops, and Lists</h1>\n",
        "\n",
        "Namaskara!\n",
        "\n",
        "Let's begin our discussion on **Conditionals**. Then we will move on to **Loops**, and finally with **Functions** on Day 3 we will have gathered a powerful basic programming kit to make interesting programs."
      ]
    },
    {
      "cell_type": "markdown",
      "metadata": {
        "id": "ovCiB5ILoe4H"
      },
      "source": [
        "# Taking User Inputs\n",
        "\n",
        "Try the following program:\n",
        "\n",
        "```\n",
        "user_input = input(\"Give input:\")\n",
        "print(\"Your input was\", user_input, \"and its type is\", type(user_input)) \n",
        "```"
      ]
    },
    {
      "cell_type": "code",
      "metadata": {
        "id": "haVU8sJeo0x9"
      },
      "source": [
        ""
      ],
      "execution_count": null,
      "outputs": []
    },
    {
      "cell_type": "markdown",
      "metadata": {
        "id": "dDWAlmufo1TV"
      },
      "source": [
        "What if we wanted to add two numbers the user inputs?\n",
        "Can we simply do this:\n",
        "\n",
        "```\n",
        "num1 = input(\"Enter first number:\")\n",
        "num2 = input(\"Enter second number:\")\n",
        "\n",
        "print(\"The sum is\", num1 + num2)\n",
        "```"
      ]
    },
    {
      "cell_type": "code",
      "metadata": {
        "id": "PBNNPFaXpWA9"
      },
      "source": [
        ""
      ],
      "execution_count": null,
      "outputs": []
    },
    {
      "cell_type": "markdown",
      "metadata": {
        "id": "td4-ZcmohDgO"
      },
      "source": [
        "#Conditionals (if... else)\n",
        "\n",
        "Most interesting behaviors are conditional. I only leave the house these days **if** I am wearing a mask. Ants only walk in straight lines **if** they have found a  clear path from home to food. Politicians only take scientists seriously **if** a pandemic shuts down the economy.\n",
        "\n",
        "Since we want our program to behave intelligently, we should consider looking for ways to generate conditional behavior. Fortunately, most programming languages have a simple way to do this.\n",
        "\n",
        "\n",
        "Consider a program that tells me whether a number I enter is less than or greater than 50. **That is, I give it any number and it will tell me if this number is greater than or less than 50**.\n",
        "\n",
        "Run the code below. When you run it you will be prompted to enter a number in the text box below. Do that and see the output."
      ]
    },
    {
      "cell_type": "code",
      "metadata": {
        "id": "GovQUKjYmnf0"
      },
      "source": [
        "user_number = int(input(\"Enter your number: \"))\n",
        "if(user_number > 50):\n",
        "  print(\"The number you entered is greater than 50\")\n",
        "if(user_number < 50):\n",
        "  print(\"The number you entered is less than 50.\")"
      ],
      "execution_count": null,
      "outputs": []
    },
    {
      "cell_type": "markdown",
      "metadata": {
        "id": "-LcaK6OYqYXS"
      },
      "source": [
        "**IMPORTANT:** \n",
        "How does the program know which statements fall within the \"if\" block? It is the **indentation** - very important in Python!!"
      ]
    },
    {
      "cell_type": "markdown",
      "metadata": {
        "id": "86qW1iGbndy5"
      },
      "source": [
        "**Discuss and try:**\n",
        "\n",
        "1. We seem to be typecasting the value we get from input() with the int() function. Why? What happens if we don't do it?\n",
        "\n",
        "2. What happens if you enter exactly 50?"
      ]
    },
    {
      "cell_type": "code",
      "metadata": {
        "id": "mVgKTUk0nczg"
      },
      "source": [
        ""
      ],
      "execution_count": null,
      "outputs": []
    },
    {
      "cell_type": "markdown",
      "metadata": {
        "id": "4HB2vZRQo3M1"
      },
      "source": [
        "<h2> Improving the Program with ...else </h2>\n",
        "We will now try to make our program neater by using an <b>else</b> statement.\n",
        "\n",
        "We notice a problem in our earlier program:\n",
        "If you enter 50, the program does not output anything.\n",
        "\n",
        "We will fix this step-by-step. Let's fix the first problem first. We will use the following logic:\n",
        "```\n",
        "if (user_input > 50):\n",
        "  print(\"Number is greater than 50\")\n",
        "else:\n",
        "  if (user_input < 50):\n",
        "    print(\"Number is less than 50\")\n",
        "  else:\n",
        "    print(\"Number is exactly 50.\")  \n",
        "```\n",
        "\n",
        "What does _else_ do? It will run if the _if()_ condition fails. It is the same as the word \"otherwise\" in English.\n",
        "\n",
        "In our program we had 3 possibilities:\n",
        "1. user_input > 50 \n",
        "2. user_input < 50 \n",
        "3. user_input == 50\n",
        "\n",
        "**Using _else_ properly ensures that all the different possibilities are taken care of.**"
      ]
    },
    {
      "cell_type": "markdown",
      "metadata": {
        "id": "74Nkd-WSseki"
      },
      "source": [
        "\n",
        "<h3> Exercise 1 </h3>\n",
        "\n",
        "Use the above conditional logic to write the same program as before:\n"
      ]
    },
    {
      "cell_type": "code",
      "metadata": {
        "id": "BBG2J-NEspAF"
      },
      "source": [
        ""
      ],
      "execution_count": null,
      "outputs": []
    },
    {
      "cell_type": "markdown",
      "metadata": {
        "id": "6QxQvQSp6ovI"
      },
      "source": [
        "<h2> Comparison Operators </h2>\n",
        "\n",
        "In the above programs we used the '<' and '>' symbols. Just like in regular mathematics, these symbols represent comparison in Python. The usual syntax for an expression using comparison operator is:\n",
        "```\n",
        "a > b\n",
        "```\n",
        "where '>' is one of the different comparison operators which are:\n",
        "\n",
        "'>'        &emsp;&emsp;       Greater than\n",
        "\n",
        "'<'       &emsp;&emsp;        Less than\n",
        "\n",
        "'=='      &emsp;&emsp;      Equal to\n",
        "\n",
        "'>='      &emsp;&emsp;       Greater than OR equal to\n",
        "\n",
        "'<='      &emsp;&emsp;       Less than OR equal to\n",
        "\n",
        "'!='      &emsp;&emsp;       Not equal to\n",
        "\n",
        "<h3>Exercise 3 </h3>\n",
        "\n",
        "Let's try these out in a program:\n"
      ]
    },
    {
      "cell_type": "code",
      "metadata": {
        "id": "5qanwrbl8bYk"
      },
      "source": [
        "a = 4           # Change a and b to test the different possibilities and how they interact with the operators\n",
        "b = 8\n",
        "if(a > b):      # Try all the above operators with different combinations of a and b \n",
        "  print(\"The condition has been satisfied\")\n",
        "else:\n",
        "  print(\"NOT satisfied\")"
      ],
      "execution_count": null,
      "outputs": []
    },
    {
      "cell_type": "markdown",
      "metadata": {
        "id": "watA8BbY8btX"
      },
      "source": [
        "\n",
        "**Discuss and try:** We learned about the assignment operator '=' last time. Now we are seeing a comparison '==' operator for 'equal to'. What is the difference between these two? What will happen if you typed if(a = b)? _[This is a very common mistake!]_ \n",
        "\n",
        "<h2> Booleans </h2>\n",
        "\n",
        "Closely linked to the idea of comparisons is the concept of Booleans.\n",
        "A boolean is a data type that can only take one of two values - **True** or **False**.\n",
        "\n",
        "You can see that **a statement such as a > b can either be true or false**. The same applies with any other comparison operator.\n",
        "\n",
        "Try the following program:\n"
      ]
    },
    {
      "cell_type": "code",
      "metadata": {
        "id": "D_fAtOzlBzKa"
      },
      "source": [
        "print(\"4 > 5 is\", 4 > 5 )\n",
        "print(\"7 <= 9 is\", 7 <= 9)\n",
        "\n",
        "var1 = 9 == 10\n",
        "print(\"var1 is\", var1, \"of type\", type(var1))\n",
        "\n",
        "if(var1):\n",
        "  print(\"This is being printed because the conditional statement is True.\")\n",
        "else:\n",
        "  print(\"हे छापले जाणार नाही.\")"
      ],
      "execution_count": null,
      "outputs": []
    },
    {
      "cell_type": "markdown",
      "metadata": {
        "id": "YzV0CsQHEV8G"
      },
      "source": [
        "**Try:** instead of if(True) try using numeric values (int or float)."
      ]
    },
    {
      "cell_type": "markdown",
      "metadata": {
        "id": "TcWTnTj8Fm1f"
      },
      "source": [
        "<h2> Logical Operators - and, or, not </h2>\n",
        "\n",
        "Often conditionals must be logically linked using an operator. We can only code if we ate breakfast AND we are not sleepy. I can make _pakoras_ if I have flour AND (onions OR potatoes). Indian team is in trouble if Mithali Raj does NOT play today.\n",
        "\n",
        "Implementing such logical links in Python can be done without much hassle. Understanding the logic can however, require you to break your head for hours.\n",
        "\n",
        "See the code below:"
      ]
    },
    {
      "cell_type": "code",
      "metadata": {
        "id": "IZo3UXrlMdwM"
      },
      "source": [
        "a = 5     #Try out different combinations of a, b, c\n",
        "b = 8\n",
        "c = 10\n",
        "\n",
        "if(b > a and c > a):\n",
        "  print(\"Condition Satisfied\")\n",
        "else:\n",
        "  print(\"ತೃಪ್ತಿಯಾಗಿಲ್ಲ\")"
      ],
      "execution_count": null,
      "outputs": []
    },
    {
      "cell_type": "markdown",
      "metadata": {
        "id": "h4Dd791IRHrG"
      },
      "source": [
        "**Try:** What happens when you put a **not** just before a boolean expression, such as\n",
        "```\n",
        "(not a > b) or c > a\n",
        "```\n",
        "or\n",
        "```\n",
        "print(not True)\n",
        "```"
      ]
    },
    {
      "cell_type": "markdown",
      "metadata": {
        "id": "F7C1OOKdUuKN"
      },
      "source": [
        "<h2> Excercise 4 - Even or Odd? </h2>\n",
        "\n",
        "Write a program that will do the following:\n",
        "\n",
        "1. Take an input from the user as your variable of choice.\n",
        "2. Check if the number is even and store the result as a boolean.\n",
        "3. Print out whether the number is even or odd.\n",
        "\n",
        "**Hint:** You will probably need to use one of the arithmatic operators we discussed yesterday for step 2."
      ]
    },
    {
      "cell_type": "code",
      "metadata": {
        "id": "5ffd_lw0WOe2"
      },
      "source": [
        ""
      ],
      "execution_count": null,
      "outputs": []
    },
    {
      "cell_type": "markdown",
      "metadata": {
        "id": "XJmCvh6QRiBL"
      },
      "source": [
        "#Loops\n",
        "\n",
        "Often in programming there is a necessity to perform an action repeatedly, until a condition is satisfied. For example, in video game programming, there is something called a **\"game loop\"** which is a block of code that is being repeatedly executed **until** either the level or the game ends. It is in this game loop that the positions of the players, opponents, and NPC's are updated, graphics are rendered to the screen, etc. \n",
        "\n",
        "Note that it is imperative to perform these actions repeatedly in a game! Otherwise you will press the jump key once, Mario will begin his jump, and the game will freeze on the current screen. You would need more than a few mushrooms to make such a game interesting.\n",
        "\n",
        "I used video games as an example for why loops are important, but they are in fact seen everywhere in programming. \n",
        "\n",
        "<h2> The While Loop </h2>\n",
        "\n",
        "In a sense we humans are organic programs that are constantly repeating some behaviors on loop. We seek out food twice or thrice a day until we find and cook it, eat it listening to the same copied hip-hop songs until our plates are empty, then spend the rest of the day scrolling through Instagram or Tiktok until either we get hungry again, or the government bans the app.\n",
        "\n",
        "Imagine we had to write a program to create more such monsters. Let's say we want to model its food seeking behavior as a program. Here's how we could do it using a **while loop**, in pseudo-code:\n",
        "\n",
        "```\n",
        "while(hungry == True):\n",
        "  SearchForFood()\n",
        "  if(food_found = True):\n",
        "    hungry = False\n",
        "```\n",
        "Since this is an abstract example, let us not go much in detail. The only point of note is: the function SearchForFood() will be executed repeatedly as long as hungry remains True. When this value changes False, the program will exit the loop.\n",
        "\n",
        "<h3>Demo </h3>\n",
        "Let us see a much simpler example of a while loop in action.\n",
        "\n"
      ]
    },
    {
      "cell_type": "code",
      "metadata": {
        "id": "H3dTxPoKQtnc"
      },
      "source": [
        "i = 0                                 #\"Initialization\"\n",
        "print(\"Entering loop\")\n",
        "\n",
        "while(i < 10):\n",
        "  print(\"The current value of i is\", i)\n",
        "  i = i + 1\n",
        "\n",
        "print(\"Exited loop\")"
      ],
      "execution_count": null,
      "outputs": []
    },
    {
      "cell_type": "markdown",
      "metadata": {
        "id": "aZ1tq-PZRZGJ"
      },
      "source": [
        "**IMPORTANT:** Can you tell where the while loop begins and where it ends? Notice the indentation. \n",
        "\n",
        "**Try:**\n",
        "\n",
        "1. What happens if the initial value of i is set to 10 or higher instead of 0? Why?\n",
        "2. What happens when you move either the \"Entering loop\" or \"Exited loop\" statements into the while loop?\n",
        "3. What happens if you replaced 'i = i + 1' with 'i = i + 2'?\n",
        "\n",
        "_**Warning:** If you try out the possibilities below you will run into problems - your computer could temporarily freeze. It is better to treat it as a mental exercise. The instructor will demonstrate it on their machine._\n",
        "\n",
        "When you write loops there is always a danger of having an **infinite loop**, ie a loop that never ends. In the example above **think** what will happen if:\n",
        "\n",
        "1. You did not have the ```i = i + 1``` line\n",
        "2. You did something like ```i = i - 1``` instead\n"
      ]
    },
    {
      "cell_type": "markdown",
      "metadata": {
        "id": "QU1IN6sjZU5W"
      },
      "source": [
        "\n",
        "\n",
        "<h2>What makes a loop loop?</h2>\n",
        "\n",
        "There are three ingredients to a loop, and they all involve the variable mentioned within the while() statement:\n",
        "\n",
        "1. **Initialization** of the variable - before entering the loop.\n",
        "2. Checking the **termination condition** on every iteration/repetition.\n",
        "3. **Incrementation** or change in the variable.\n",
        "\n",
        "<h2>"
      ]
    },
    {
      "cell_type": "markdown",
      "metadata": {
        "id": "rAD40DuTTXoq"
      },
      "source": [
        "<h3>Exercise - Searching </h3>\n",
        "\n",
        "\n",
        "Let us imagine a game you can play with a friend:\n",
        "\n",
        "_Your friend picks an integer between 1 and 100 (inclusive) without telling you. Your have to guess the number. When you guess correctly, your friend curses and tells you that you got the answer. But every time you guess wrong, your friend tells you if the correct number is greater or less than the number you guessed._\n",
        "\n",
        "\n",
        "We will play the above game with the computer, where the computer will first generate a random number for us. We will then use the \"input\" function to enter our guesses.\n",
        "\n",
        "**Task:** The computer will generate a random number between 1 and 100 (inclusive) and store it in the variable **random_number**. You have to write a program that will:\n",
        "\n",
        "1. Take input from the user in a new variable.\n",
        "2. Check if the input matches random_number. If it matches, then print \"VICTORY!!!\" and end program. If it does not match then print whether **random_number** is greater or less than the guess.\n",
        "3. Every time a guess is made, along with the print statements in step 2, also print the number of guesses made so far."
      ]
    },
    {
      "cell_type": "code",
      "metadata": {
        "id": "q6jF5G4hWStM"
      },
      "source": [
        "import random           #ignore this line for now. We will talk about imports later\n",
        "\n",
        "random_number = random.randint(1,100)    #random integer from 1 to 100.\n",
        "##Enter the rest of the code for the program:\n",
        "\n"
      ],
      "execution_count": null,
      "outputs": []
    },
    {
      "cell_type": "markdown",
      "metadata": {
        "id": "8HGg6FlCOuo-"
      },
      "source": [
        "**Think:** As a player of the above game, is there a strategy you can adopt that will get you the answer with the least number of guesses?"
      ]
    },
    {
      "cell_type": "markdown",
      "metadata": {
        "id": "1Jw_hSm-dJJi"
      },
      "source": [
        "<h2>The 'for' Loop"
      ]
    },
    {
      "cell_type": "markdown",
      "metadata": {
        "id": "Oa6ZPy8vRVWL"
      },
      "source": [
        "The for loop is a more convenient way to write a while loop. It has more concise syntax, and does automatic incrementation. \n",
        "\n",
        "While loops offer more flexibility, but for loops are preferred in most cases because of the convenient syntax."
      ]
    },
    {
      "cell_type": "markdown",
      "metadata": {
        "id": "5HIlrOPqR7vL"
      },
      "source": [
        "<h3>Demo</h3>\n"
      ]
    },
    {
      "cell_type": "code",
      "metadata": {
        "id": "j7EdG3eQR_0A"
      },
      "source": [
        "print(\"Entering loop\")\n",
        "for i in range(10):\n",
        "  print(\"The current value of i is\", i)\n",
        "print(\"Exited loop\")"
      ],
      "execution_count": null,
      "outputs": []
    },
    {
      "cell_type": "markdown",
      "metadata": {
        "id": "9gd914MZdKeY"
      },
      "source": [
        "We will learn more about for loops when we discuss lists.\n",
        "For now, let's try to figure out what the for loop above is doing.\n",
        "\n",
        "**Try:**\n",
        "\n",
        "1. This was your first exposure to range() function. Instead of ```range(10)```, try ```range(0,10)```, ```range(1,10)```, ```range(0,10,2)``` and ```range(15)```.\n",
        "\n",
        "2. Notice that the output of this demo is slightly different from the while loop demo. Why is that? How will you make it the same?"
      ]
    },
    {
      "cell_type": "markdown",
      "metadata": {
        "id": "C1hnkUJ5UYGP"
      },
      "source": [
        "#Lists\n",
        "\n",
        "For a more complete discussion of for loops in Python we must first discuss lists. Lists can be thought of a more advanced data type that can contain other data. Let's take a look at the following code examples:"
      ]
    },
    {
      "cell_type": "code",
      "metadata": {
        "id": "pc--_ORaUXYW"
      },
      "source": [
        "list1 = ['Ahmed', 'Arjun', 'Natasha', 'Mariam', 'Gurpreet']\n",
        "print(\"The entire list is\", list1)\n",
        "print(\"The first element on list1 is\", list1[0])"
      ],
      "execution_count": null,
      "outputs": []
    },
    {
      "cell_type": "markdown",
      "metadata": {
        "id": "Tg1EWLPTOhg0"
      },
      "source": [
        "So there!\n",
        "A list is basically a collection of simpler data. Each element in the above list is a string. We could have alternately defined a separate variable for each string and used the variable name, separated by commas. The general syntax for defining a list is:\n",
        "\n",
        "```\n",
        "list_name = [element0, element1, element2,...]\n",
        "```\n",
        "To access the element number k from the list, we will use the statement ```list_name[k]```.\n",
        "\n",
        "Note that the numbering begins with 0. This is common in many programming languages, although if you use MATLAB it begins with 1.\n",
        "\n",
        "The elements can be integers, strings, floats, even other lists, and in different combinations.\n",
        "\n",
        "Let's see an example of a list containing integers."
      ]
    },
    {
      "cell_type": "code",
      "metadata": {
        "id": "foqQg9y2NmHU"
      },
      "source": [
        "num1 = 5\n",
        "num2 = 3\n",
        "list2 = [num1, 69, num2]\n",
        "print(list2)\n",
        "\n",
        "\n",
        "print(\"Data type of list2 is\", type(list2))\n",
        "print(\"Data type of first element of list2 is\", type(list2[0]))"
      ],
      "execution_count": null,
      "outputs": []
    },
    {
      "cell_type": "markdown",
      "metadata": {
        "id": "lSbthm6QNVcC"
      },
      "source": [
        "**Try:** \n",
        "\n",
        "1. An int, a float, a string, a list as elements in a single list.\n",
        "2. Try the following statement: ```print(sum(list2))```"
      ]
    },
    {
      "cell_type": "markdown",
      "metadata": {
        "id": "u0Xo-DfuaniV"
      },
      "source": [
        "<h2>Subsetting from a list</h2>\n",
        "\n",
        "You can either subset individual items from a list, or you can subset a list of multiple items.\n",
        "\n",
        "As we saw before we subset individual items with ```list_name[index]```\n",
        "\n",
        "\n",
        "Look at the following example:"
      ]
    },
    {
      "cell_type": "code",
      "metadata": {
        "id": "VgW66uLSavpQ"
      },
      "source": [
        "new_list = list(range(20, 40))    #Create a list of integers from 20 to 39\n",
        "print(new_list)\n",
        "\n",
        "print(new_list[0:5])      #Print the first five items in the list. Index no. 5 is excluded.\n",
        "print(new_list[10:20:2])  #Print values from 10th index to 19th index in intervals of 2."
      ],
      "execution_count": null,
      "outputs": []
    },
    {
      "cell_type": "markdown",
      "metadata": {
        "id": "723Lf1OUnAgM"
      },
      "source": [
        "<h3> Exercise </h3>\n",
        "\n",
        "What if I wanted to print every element of a list on a separate line?"
      ]
    },
    {
      "cell_type": "code",
      "metadata": {
        "id": "b2_FQqUTnkTI"
      },
      "source": [
        ""
      ],
      "execution_count": null,
      "outputs": []
    },
    {
      "cell_type": "markdown",
      "metadata": {
        "id": "TOWQXZv4Z9Ap"
      },
      "source": [
        "&nbsp;\n",
        "\n",
        "<h2>Iterating over lists:</h2>"
      ]
    },
    {
      "cell_type": "markdown",
      "metadata": {
        "id": "bqiyhjzJaU-t"
      },
      "source": [
        "\n",
        "**Question:** What if I wanted to multiply each of the 20 integers in ```new_list``` by 2? \n",
        "\n",
        "Well one way is to write 20 separate assignment statements. Like:\n",
        "```\n",
        "new_list[0] = new_list[0]*2\n",
        "new_list[1] = new_list[1]*2\n",
        ".\n",
        ".\n",
        ".\n",
        "new_list[19] = new_list[19]*2\n",
        "```\n",
        "But this would take a long time to type out. Also, when we are handling real data we often have lists with thousands of elements. **As programmers we aim to outsource most of our work to the computer** - ideally we want to be able to say 'bro, just double them all' and we should get the correct output.\n",
        "\n",
        "So how does one do this in Python? We would want some convenient notation for this, such as ```new_list2 = new_list * 2```. But unfortunately this is not how operations on lists work (**try it** and see what happens!). In a few classes we will talk about **NumPy Arrays** which are like numerical lists but much more convenient in this way.\n",
        "\n",
        "So what do we do now?\n",
        "\n",
        "Well we already have a tool that will help us in this. What have we learned earlier today that can be used to repeatedly perform an action? **Think about this for some time**\n",
        "The next code example is a hint:\n"
      ]
    },
    {
      "cell_type": "code",
      "metadata": {
        "id": "QgAjGSGjZ7hM"
      },
      "source": [
        "#Note: new_list is defined in the above code block. If you get an error you should run the previous block where it was defined.\n",
        "\n",
        "for index, item in enumerate (new_list):\n",
        "  print(\"On index #\", index, \"we have the following item:\", item)"
      ],
      "execution_count": null,
      "outputs": []
    },
    {
      "cell_type": "markdown",
      "metadata": {
        "id": "_zb_6qB-n50k"
      },
      "source": [
        "So we can iterate over the items in a list using a for loop. Moreover, the **enumerate** keyword helps us keep track of the index of each item. "
      ]
    },
    {
      "cell_type": "markdown",
      "metadata": {
        "id": "4FWoR0C_rAvy"
      },
      "source": [
        "<h3> Exercise </h3>\n",
        "\n",
        "Create a list ``` new_list2 ``` where each element is the corresponding element of ``` new_list ``` multiplied by 2"
      ]
    },
    {
      "cell_type": "code",
      "metadata": {
        "id": "-UNMY0dhH8yf"
      },
      "source": [
        ""
      ],
      "execution_count": null,
      "outputs": []
    },
    {
      "cell_type": "markdown",
      "metadata": {
        "id": "1RGmNM-WH-Fk"
      },
      "source": [
        "#So What Did We Learn Today?\n",
        "\n",
        "* Taking user inputs using the input() function\n",
        "* Conditionals (if... else), Booleans, logical operators\n",
        "* Loops - while, for\n",
        "* Lists"
      ]
    }
  ]
}