{
  "nbformat": 4,
  "nbformat_minor": 0,
  "metadata": {
    "colab": {
      "name": "MA_T3.ipynb",
      "provenance": [],
      "collapsed_sections": [],
      "authorship_tag": "ABX9TyMvnLYIODaIw338LOTUmXBP",
      "include_colab_link": true
    },
    "kernelspec": {
      "name": "python3",
      "display_name": "Python 3"
    }
  },
  "cells": [
    {
      "cell_type": "markdown",
      "metadata": {
        "id": "view-in-github",
        "colab_type": "text"
      },
      "source": [
        "<a href=\"https://colab.research.google.com/github/ashwinramaswamy92/Python-Tutorials/blob/master/MA_T3.ipynb\" target=\"_parent\"><img src=\"https://colab.research.google.com/assets/colab-badge.svg\" alt=\"Open In Colab\"/></a>"
      ]
    },
    {
      "cell_type": "markdown",
      "metadata": {
        "id": "YwL2uujFTYZz"
      },
      "source": [
        "#Today's Agenda - Functions, Functions, Functions (and some fun practice problems!)\n",
        "\n",
        "Functions are a core part of programming. You will use a lot of them when you begin coding in earnest. And with it we will have a complete arsenal of basic programming weapons. We shall use it to create more problems out of nowhere and take credit for solving them, just like a politician."
      ]
    },
    {
      "cell_type": "markdown",
      "metadata": {
        "id": "iyaRgj8eoWaD"
      },
      "source": [
        "\n",
        "\n",
        "\n",
        "# WTF - What's This 'Function'? \n",
        "\n",
        "We used the analogy that variables are like boxes or bowls in which you can store things (data). Let's take this a bit further.\n",
        "\n",
        "Say you have onions in bowl **A**, _tuvar daal_ in bowl **B**, spice mix in bowl **C**. You have all the ingredients for a _daal fry_. But you need to put it through some process which we call **cooking** to get the desired result - a plate of food.\n",
        "\n",
        "Let us, for fun, try and define a this process in 'pseudo-code'. Hopefully some day a computer can understand this and make us food.\n",
        "\n",
        "```\n",
        "take inputs -> A, B, C.\n",
        "\n",
        "  get kadhai, oil, water, plate\n",
        "\n",
        "  boil contents of B.\n",
        "  heat oil in kadhai.\n",
        "  add A to kadhai.\n",
        "\n",
        "  if A contains onions:\n",
        "    saute for 4 minutes\n",
        "  but if A contains tomatoes instead:\n",
        "    saute for 2 minutes\n",
        "  if it contains anything else:\n",
        "    recheck recipe\n",
        "\n",
        "  add contents of C.\n",
        "  mix\n",
        "  add contents of B.\n",
        "  mix\n",
        "  add water.\n",
        "  let simmer.\n",
        "\n",
        "give output -> contents of kadai in a plate.\n",
        "\n",
        "```\n",
        "\n",
        "Okay this is far from real python code. But it helps determine the usefulness of defining a process. Note how the cooking process describe above takes a variable input and treats it flexibly - bowl A could have contained onions or tomatoes. This is an important property of the process, and is the reason we gave variable bowls as inputs.\n",
        "\n",
        "Similarly, a **function is a process**. It takes some variables as input which we call **arguments**, and often **returns a value** after performing some computation.\n",
        "\n",
        "In our example, the **cooking** function took bowls **A**, **B** and **C** as arguments.\n",
        "\n",
        "\n",
        "We have in fact come across Python functions multiple times so far. The following statement uses the print() function:\n",
        "\n",
        "```\n",
        "print(\"This string is an argument to the print() function\")\n",
        "```\n",
        "\n",
        "The print() function is a **built-in** function, meaning that it is already defined in any Python 3 package.\n",
        "\n",
        "But often we need to write our own functions (**user-defined functions**). We will learn how to do that soon.\n"
      ]
    },
    {
      "cell_type": "markdown",
      "metadata": {
        "id": "QUolPhnCgEMA"
      },
      "source": [
        "<h2> An Example Function </h2>\n",
        "\n",
        "<h3> Exercise 1 </h3>\n",
        "\n",
        "Let's say I want to write a program that will add two numbers, and print the output. Say I want to run it for the following inputs:\n",
        "* 4 and 5\n",
        "* 15 and 95\n",
        "* 540 and -945\n",
        "* 700 and -10\n",
        "\n",
        "Let's try to code this based on what we know already, ie, without functions:\n"
      ]
    },
    {
      "cell_type": "code",
      "metadata": {
        "id": "rApmUvDBl3xE"
      },
      "source": [
        "print(\"The sum of\", 4, \"and\", 5, \"is\", 4 + 5)\n",
        "#Type the rest of your code here"
      ],
      "execution_count": null,
      "outputs": []
    },
    {
      "cell_type": "markdown",
      "metadata": {
        "id": "IYr1BMrjl4X8"
      },
      "source": [
        "But wait, we didn't use any function besides print() yet did we?\n",
        "Now, run the following and observe the output:"
      ]
    },
    {
      "cell_type": "code",
      "metadata": {
        "id": "2lpkk-XyhmJM"
      },
      "source": [
        "def add_and_print(num1, num2):                              #Defining the function and its arguments\n",
        "                                                            #Function begins here  \n",
        "  print(\"The sum of\", num1, \"and\", num2, \"is\", num1 + num2)\n",
        "                                                            #Function ends here (why??)\n",
        "\n",
        "add_and_print(4, 5)                                       #Calling the function with three different argument pairs\n",
        "add_and_print(15, 95)\n",
        "add_and_print(540, -945)\n",
        "add_and_print(700, -10)"
      ],
      "execution_count": null,
      "outputs": []
    },
    {
      "cell_type": "markdown",
      "metadata": {
        "id": "4sgBmDx7kw0K"
      },
      "source": [
        "As you can see above, a function is simply a block of code that can be **called** with a single line. You could just as well typed separate print() calls instead of calling your personal add_and_print() function.\n",
        "\n",
        "Writing blocks of code as functions makes your code shorter and importantly, helps organize your program much better. The idea is the same as using the word \"**cooking**\" as a short-form for a more complicated step-wise process as we saw in the introduction.\n",
        "\n",
        "**Each time you call a function, the block of code within the function is executed with the given input arguments.**\n",
        "\n",
        "\n",
        "**IMPORTANT:** What defines the beginning and end of a function in Python? Answer: It's the **indentation** (the spaces before every line in the function code)."
      ]
    },
    {
      "cell_type": "markdown",
      "metadata": {
        "id": "cBZa4cFikMfp"
      },
      "source": [
        "**Try:** What happens when you comment out the function calls?"
      ]
    },
    {
      "cell_type": "markdown",
      "metadata": {
        "id": "gLXWyWyNdfvz"
      },
      "source": [
        "<h2> Arguments and Return Values </h2>\n",
        "\n",
        "The function add_and_print() that we defined and used above had **two arguments** (num1 and num2). Did it return an output value? The answer is **no**. We will see why now.\n",
        "\n",
        "So what is a **return value**? Many times we would want the function itself to have a value, such that we can assign its computed output to a different variable in our main program. For example:\n",
        "\n",
        "```\n",
        "y = f(x)\n",
        "```\n",
        "Here the function f() computes a value with argument x, and the answer of the computation is stored in y.\n",
        "\n",
        "add_and_print() actually does not return any value. You can confirm this by trying the following statement in the next code box:\n",
        "\n",
        "``` y = add_and_print(4, 6)```\n",
        "\n",
        "\n"
      ]
    },
    {
      "cell_type": "code",
      "metadata": {
        "id": "FddUWbvAwtQ3"
      },
      "source": [
        ""
      ],
      "execution_count": null,
      "outputs": []
    },
    {
      "cell_type": "markdown",
      "metadata": {
        "id": "CSTcLVDI80xU"
      },
      "source": [
        "Why didn't this work?\n",
        "\n",
        "Return values in python are set with the _return_ keyword.\n",
        "Look at the following program now:"
      ]
    },
    {
      "cell_type": "code",
      "metadata": {
        "id": "81Vwj49-wvs-"
      },
      "source": [
        "def add_numbers(num1, num2):\n",
        "  \"\"\"\n",
        "  Description: takes in two numbers and returns their sum\n",
        "  Inputs:\n",
        "          num1 -> integer or float\n",
        "          num2 -> integer or float\n",
        "  \"\"\"\n",
        "  sum = num1 + num2\n",
        "  return sum\n",
        "\n",
        "y = add_numbers(7, 8)\n",
        "print(y)\n"
      ],
      "execution_count": null,
      "outputs": []
    },
    {
      "cell_type": "markdown",
      "metadata": {
        "id": "kWKzYv-YxQ6r"
      },
      "source": [
        "**Think:** Is there a way you can shorten the above program? Are all the lines necessary or is there some redundancy? How does this affect speed and memory?"
      ]
    },
    {
      "cell_type": "code",
      "metadata": {
        "id": "43ir5ZDZ1cKp"
      },
      "source": [
        ""
      ],
      "execution_count": null,
      "outputs": []
    },
    {
      "cell_type": "markdown",
      "metadata": {
        "id": "U5ZXZIe71bd4"
      },
      "source": [
        "**Think and Try:** Can you have a function without any argument or return value?"
      ]
    },
    {
      "cell_type": "markdown",
      "metadata": {
        "id": "bBhM24u7gBJT"
      },
      "source": [
        "<h3> Exercise 2 </h3>\n",
        "\n",
        "Write a program that:\n",
        "1. Takes an integer as user input.\n",
        "2. Passes the integer as an argument to a function.\n",
        "3. The function computes and returns the factorial value of the integer.\n",
        "4. Print the answer **outside** of the function."
      ]
    },
    {
      "cell_type": "code",
      "metadata": {
        "id": "--_5mnOjg0XH"
      },
      "source": [
        ""
      ],
      "execution_count": null,
      "outputs": []
    },
    {
      "cell_type": "markdown",
      "metadata": {
        "id": "BocDrrEjg1JB"
      },
      "source": [
        "**Note on defensive programming:** How do you prevent the less than ideal situation where the user enters a non-integer?"
      ]
    },
    {
      "cell_type": "markdown",
      "metadata": {
        "id": "NwslC-6dh0jB"
      },
      "source": [
        "#Recursive Functions - can a function call itself?\n",
        "\n",
        "Observe the following example:"
      ]
    },
    {
      "cell_type": "code",
      "metadata": {
        "id": "lkZ5Q-NQiJBl"
      },
      "source": [
        "def factorial(n):\n",
        "  \n",
        "  if(n > 1):\n",
        "    return (n * factorial(n - 1))\n",
        "  else:\n",
        "    return 1\n",
        "\n",
        "number = int(input(\"Please enter an integer:\"))\n",
        "print(\"The factorial of\", number, \"is\", factorial(number))"
      ],
      "execution_count": null,
      "outputs": []
    },
    {
      "cell_type": "markdown",
      "metadata": {
        "id": "p4XW84uipbBU"
      },
      "source": [
        "**Think:** What are some possible non-ideal inputs here? How could you make your program robust to it?"
      ]
    },
    {
      "cell_type": "markdown",
      "metadata": {
        "id": "5laO5TQOpRz7"
      },
      "source": [
        "<h3> Wrap-Up Exercise: </h3>\n",
        "\n",
        "Write a function to return the first n values of the Fiboonacci sequence, n being a positive integer argument.\n",
        "\n",
        "**Tip:** You can return multiple values with a function using a list. You can add a new value to a list by using ```ListName.append(NewValue)``` where ListName is the list and NewValue is a new list element."
      ]
    },
    {
      "cell_type": "code",
      "metadata": {
        "id": "5r73qejpp1NP"
      },
      "source": [
        ""
      ],
      "execution_count": null,
      "outputs": []
    }
  ]
}