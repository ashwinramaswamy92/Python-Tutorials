{
  "nbformat": 4,
  "nbformat_minor": 0,
  "metadata": {
    "colab": {
      "name": "MA_T5.ipynb",
      "provenance": [],
      "collapsed_sections": [],
      "authorship_tag": "ABX9TyP71nLcp5SJyJVh/GQxQNfd",
      "include_colab_link": true
    },
    "kernelspec": {
      "name": "python3",
      "display_name": "Python 3"
    }
  },
  "cells": [
    {
      "cell_type": "markdown",
      "metadata": {
        "id": "view-in-github",
        "colab_type": "text"
      },
      "source": [
        "<a href=\"https://colab.research.google.com/github/ashwinramaswamy92/Python-Tutorials/blob/master/MA_T5.ipynb\" target=\"_parent\"><img src=\"https://colab.research.google.com/assets/colab-badge.svg\" alt=\"Open In Colab\"/></a>"
      ]
    },
    {
      "cell_type": "markdown",
      "metadata": {
        "id": "WRjhZ7xOEDW1"
      },
      "source": [
        "#Up next - Plotting (and some Maths T_T )\n",
        "\n",
        "Now that we have most of the basic ingredients of the coding soup, we will turn our focus to application.\n",
        "\n",
        "My aim here is not to dive headfirst into all or most of the ways in which python is commonly used - that would require a lot more time, energy, and talent on the instructor's part than we have available to us in this short course.\n",
        "\n",
        "Instead I want to impress upon you something simple with a coding tutorial. I want you to get out of this course feeling empowered to be able to use it for at least one specific application - plots and graphs.\n",
        "\n",
        "Now, while the natural approach to this might be to use actual data related to a real-world phenomenon from some data repository, I wish to take a more theoretical approach. Hopefully we will have some fun with maths along the way.\n",
        "\n",
        "#Using an external library\n",
        "\n",
        "A 'library' is simply a set of functions that others have written and made public to make our lives easier. We don't want to reinvent the wheel, so we will just use these functions. Let's find out how.\n",
        "\n",
        "We will use the Python '**math**' library to print some mathematical functions of some user input.\n",
        "\n",
        "Please look up the name of the function on google along with the keywords 'python math' to understand what the function is doing. You should ideally use the math library's original documentation: https://docs.python.org/3/library/math.html"
      ]
    },
    {
      "cell_type": "code",
      "metadata": {
        "id": "I1zZKYeQrBX6"
      },
      "source": [
        "import math\n",
        "\n",
        "num = int(input(\"Please type an integer: \"))\n",
        "print(math.factorial(num))\n",
        "\n",
        "num2 = 6.78\n",
        "print(math.fabs(6.78))"
      ],
      "execution_count": null,
      "outputs": []
    },
    {
      "cell_type": "markdown",
      "metadata": {
        "id": "tUSfwheZwE_K"
      },
      "source": [
        "#The NumPy Library\n",
        "\n",
        "We have learned so far that a list is one way to store multiple related values. For example, if you wanted to store the heights of 40 students, it makes sense to perhaps use a list for this purpose.\n",
        "\n",
        "**Think:** if you had a list of heights of 40 students in cm, how would convert them all to inches?\n",
        "\n",
        "\n",
        "Now let's look at what a NumPy array is and why we need it in our life:"
      ]
    },
    {
      "cell_type": "code",
      "metadata": {
        "id": "xuxYyXY_wceY"
      },
      "source": [
        "import numpy\n",
        "\n",
        "a = numpy.array([1, 6])\n",
        "print(a)\n",
        "print(a + 1)\n",
        "print(a*2)\n",
        "print(numpy.sum(a))\n",
        "print(numpy.mean(a))\n",
        "print(numpy.size(a))"
      ],
      "execution_count": null,
      "outputs": []
    },
    {
      "cell_type": "markdown",
      "metadata": {
        "id": "wPQi8wDryOCw"
      },
      "source": [
        "#Using Numpy to generate ranges of numbers"
      ]
    },
    {
      "cell_type": "code",
      "metadata": {
        "id": "vfjLnTjKyV7l"
      },
      "source": [
        "import numpy as np\n",
        "\n",
        "a = np.arange(-5, 5, 0.5)\n",
        "print(a)\n",
        "print(a[1])\n",
        "print(a.size)"
      ],
      "execution_count": null,
      "outputs": []
    },
    {
      "cell_type": "markdown",
      "metadata": {
        "id": "Lk5WDd6azNGW"
      },
      "source": [
        "#2-D Arrays"
      ]
    },
    {
      "cell_type": "code",
      "metadata": {
        "id": "wvJ0h1FlzPqR"
      },
      "source": [
        "c = np.array([[1,2,3],[4,5,6],[7,8,9]])\n",
        "print(c)\n",
        "print(\"Size of array:\", c.size)\n",
        "print(\"Shape of array:\", c.shape)\n",
        "print(\"Element at [0, 0]:\", c[0,0])\n",
        "print(\"Element at [2, 2]:\", c[2,2])"
      ],
      "execution_count": null,
      "outputs": []
    },
    {
      "cell_type": "markdown",
      "metadata": {
        "id": "J47hQ6zcBM5o"
      },
      "source": [
        "#Array operations\n"
      ]
    },
    {
      "cell_type": "code",
      "metadata": {
        "id": "NHJrE6OpBVnY"
      },
      "source": [
        "array1 = np.array([0, np.pi, -np.pi])\n",
        "print(\"1.\", array1)\n",
        "print(\"2.\", array1 + 3)\n",
        "print(\"3.\", array1 * 2)\n",
        "print(\"4.\", array1 ** 2)\n",
        "print(\"5.\", np.cos(array1))"
      ],
      "execution_count": null,
      "outputs": []
    },
    {
      "cell_type": "code",
      "metadata": {
        "id": "mLumXbyKCEnQ"
      },
      "source": [
        "array1 = np.array([0, 4, 9])\n",
        "array2 = np.array([-9, 4, -16])\n",
        "\n",
        "print(array1 + array2)\n",
        "print(np.dot(array1, array2))"
      ],
      "execution_count": null,
      "outputs": []
    },
    {
      "cell_type": "markdown",
      "metadata": {
        "id": "kt49sC5KsP3V"
      },
      "source": [
        "#The Matplotlib Library\n",
        "\n",
        "Python itself does not have any functions to make plots and graphs. Therefore we must import the matplotlib.pyplot library."
      ]
    },
    {
      "cell_type": "code",
      "metadata": {
        "id": "XmBCTx1rDHic"
      },
      "source": [
        "import matplotlib.pyplot as plt\n",
        "\n",
        "#Uncomment each of the following lines sequentially, and then run one by one.\n",
        "\n",
        "\n",
        "plt.figure(figsize = (10,6))                  #creating a new figure\n",
        "plt.title(\"First Plot\")       #setting figure title\n",
        "plt.xlabel(\"x-axis\")          #labelling axes\n",
        "plt.ylabel(\"y-axis\")\n",
        "# plt.plot(5, 6, 'gx')         #Marking the first point at x = 5, y = 6 with green 'x'\n",
        "# plt.xlim(-10, 10)            #Setting range of x axis of the plot\n",
        "# plt.ylim(-10, 10)            #Setting range of y axis of the plot\n",
        "# plt.plot(1, 0, 'rx')         #Marking the second point at x = 1, y = 0 with red 'x'\n",
        "# plt.plot((1,5), (0,6))       #Drawing a line from (1, 0) to (5,6)"
      ],
      "execution_count": null,
      "outputs": []
    },
    {
      "cell_type": "markdown",
      "metadata": {
        "id": "1mHFYhGMUm3V"
      },
      "source": [
        "<h3> Exercise </h3>\n",
        "\n",
        "Write a code to plot x^2 as a function of x."
      ]
    },
    {
      "cell_type": "code",
      "metadata": {
        "id": "R_OlBf9qF_3K"
      },
      "source": [
        ""
      ],
      "execution_count": null,
      "outputs": []
    },
    {
      "cell_type": "markdown",
      "metadata": {
        "id": "8D52Ddh7U3sB"
      },
      "source": [
        "<h3> Exercise </h3>\n",
        "\n",
        "Write a code to plot sin(x) and cos(x) as a function of x in the same plot. Label the plot, and each axis. Label x-axis with appropriate units.\n",
        "\n",
        "Also make a third variable p as the sum of the squares of the above two functions of x, and plot it in the same figure."
      ]
    },
    {
      "cell_type": "code",
      "metadata": {
        "id": "nSW89TFUD9Yr",
        "cellView": "form"
      },
      "source": [
        "#@title Run this cell for an example plot\n",
        "import numpy as np\n",
        "import matplotlib.pyplot as plt\n",
        "\n",
        "pi = np.pi\n",
        "\n",
        "x = np.linspace(-4*pi, 4*pi, 150)\n",
        "y = np.sin(x)\n",
        "z = np.cos(x)\n",
        "\n",
        "\n",
        "fig = plt.figure(figsize = (15,8))\n",
        "ax = fig.add_subplot(1,1,1)\n",
        "\n",
        "ax.set_xticks(np.arange(-15, 15, pi/2))\n",
        "ax.set_yticks(np.arange(-1.5, 1.5, 0.1))\n",
        "ax.set_ylim(-1.5,1.5)\n",
        "ax.set_xlim(-15,15)\n",
        "# ax.grid()\n",
        "ax.plot(x, y, 'm', label = 'sin(x)')\n",
        "ax.plot(x, z, 'r', label = 'cos(x)')\n",
        "ax.plot([-15, 15],[0, 0], 'k--')       #Plotting the x axis\n",
        "ax.plot([0, 0],[-1.5, 1.5], 'k--')       #Plotting the x axis\n",
        "ax.legend()\n",
        "fig.show()"
      ],
      "execution_count": null,
      "outputs": []
    }
  ]
}
