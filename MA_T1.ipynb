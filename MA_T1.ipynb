{
  "nbformat": 4,
  "nbformat_minor": 0,
  "metadata": {
    "colab": {
      "name": "MA_T1.ipynb",
      "provenance": [],
      "collapsed_sections": [],
      "toc_visible": true,
      "authorship_tag": "ABX9TyNFgO+Pmg7opPCuHDG0NPy6",
      "include_colab_link": true
    },
    "kernelspec": {
      "name": "python3",
      "display_name": "Python 3"
    }
  },
  "cells": [
    {
      "cell_type": "markdown",
      "metadata": {
        "id": "view-in-github",
        "colab_type": "text"
      },
      "source": [
        "<a href=\"https://colab.research.google.com/github/ashwinramaswamy92/Python-Tutorials/blob/master/MA_T1.ipynb\" target=\"_parent\"><img src=\"https://colab.research.google.com/assets/colab-badge.svg\" alt=\"Open In Colab\"/></a>"
      ]
    },
    {
      "cell_type": "markdown",
      "metadata": {
        "id": "k5qelt9WNHxQ"
      },
      "source": [
        "# Introduction\n",
        "\n",
        "Nomoshkar!\n",
        "\n",
        "Welcome to our first coding tutorial!\n",
        "\n",
        "We are shortly going to jump straight into writing some code. But first, I want to talk a bit about the general idea of programming and Python.\n",
        "\n",
        "<h1>What is programming?</h1>\n",
        "\n",
        "To put it simply, programming means talking to a computer. As much as we like Rajnikanth's 2.0, our average computer cannot understand human language very well. Therefore, in order to make a computer to do interesting things for us, we need to learn to speak in a computer language.\n",
        "\n",
        "What does computer language look like? Well at the heart of it, a computer is a set of binary switches. Any interaction we have with it must ultimately be expressed in 0's and 1's. So will all our programs invove learning how to write precise binary sequences? For example: maybe typing 00110001000011100001111010 means 'open movies folder'?\n",
        "\n",
        "Although this is close to the truth about how programs work fundamentally, this would be a nightmare for humans to deal with all the time. Can you imagine learning uncountable number of such sequences of 0's and 1's for every different thing you'd want your computer to do for you?\n",
        "\n",
        "Fortunately though, computer engineers have over the decades worked very hard to make programming instructions closer and closer to human language. This has got us to the point where programming is no longer an extremely difficult and painful skill available only to a few IBM employees, but something anyone with access to a computer and basic typing skills can learn and enjoy. \n",
        "\n",
        "This has also led to the creation of many computer 'languages' over the years, such as 'COBOL', 'BASIC', 'C', 'Java', and of course 'Python'. A key difference between all the many languages is how close each language is to human language. Older languages such as COBOL tend to be difficult for humans to read and write in, but newer ones like Python are often much closer to human languages.\n",
        "\n",
        "What this means for us is that as beginners to programming it would be wise to pick a language that is easy for us to understand and write. We want our computer to do interesting things for us, while communicating with it in a simple manner. Fortunately Python happens to be just such a language - it is very popular and high in demand in some industries because of its wide functionality, while being not too complicated to understand."
      ]
    },
    {
      "cell_type": "markdown",
      "metadata": {
        "id": "3dyOmHBbFfBG"
      },
      "source": [
        "# Our first Program\n",
        "\n",
        "\n",
        "It is customary to begin any first-time programming experience by getting the computer to say \"Hello World\". This is an odd sentence to say in real life, but programmers are not known for their understanding of human social conventions.\n",
        "\n",
        "**<h3>Exercise 1</h3>**\n",
        "\n",
        "Click on the empty grey box in front of the [   ] sign below and type the following in it:\n",
        "\n",
        "    print(\"Hello World!\")\n",
        "\n",
        "Then press Ctrl+Enter on your keyboard.  See if what you get matches the sample output "
      ]
    },
    {
      "cell_type": "code",
      "metadata": {
        "id": "N1OMjfOiFYDZ"
      },
      "source": [
        ""
      ],
      "execution_count": null,
      "outputs": []
    },
    {
      "cell_type": "markdown",
      "metadata": {
        "id": "yZIdIx9DfC0G"
      },
      "source": [
        "**SAMPLE OUTPUT**\n",
        "\n",
        "```\n",
        "Hello World!\n",
        "```"
      ]
    },
    {
      "cell_type": "markdown",
      "metadata": {
        "id": "q6IfM2ShLNql"
      },
      "source": [
        "\n",
        "\n",
        "This was a tiny program, but it has a few important highlights: \n",
        "\n",
        "1. What you typed in the 'code box' was the 'code' for the program. We basically told the computer, 'please output this statement: _Hello World!_'\n",
        "\n",
        "2. Pressing Ctrl+Enter means 'Run this program'. The computer will then try to read what you wrote in Python, and respond to you if needed.\n",
        "\n",
        "3. The computer did as commanded!\n",
        "\n",
        "Now let's try to understand how the computer made sense of your command to print it.\n",
        "\n"
      ]
    },
    {
      "cell_type": "markdown",
      "metadata": {
        "id": "R6QAC8zZdVmd"
      },
      "source": [
        "<h4> Extras (Exercise 1):</h4>\n",
        "\n",
        "**Try:** Copy-paste and run each of the following lines one-by-one in the code box underneath.\n",
        "```\n",
        "prin(\"Hello World!\")\n",
        "```\n",
        "```\n",
        "print(\"Hello World!\"\n",
        "```\n",
        "```\n",
        "print(Hello World!)\n",
        "```\n",
        "```\n",
        "print(\"Hello World\")\n",
        "```\n",
        "\n",
        "Which of these give outputs and which of these give errors? Why? What does 'Syntax' mean?"
      ]
    },
    {
      "cell_type": "code",
      "metadata": {
        "id": "bT6NMDQWnltZ"
      },
      "source": [
        ""
      ],
      "execution_count": null,
      "outputs": []
    },
    {
      "cell_type": "markdown",
      "metadata": {
        "id": "zE11L4YuscLb"
      },
      "source": [
        "&nbsp;\n",
        "# Arithmetic\n",
        "\n",
        "In this section we will learn to use Python to do all the things you can get a simple calculator to do.\n",
        "\n",
        "**<h3>Exercise 2</h3>**\n",
        "\n",
        "Let's do some arithmetic operations on Python, and print them out. In the next box type and run:\n",
        "\n",
        "```\n",
        "print(\"The sum of 4 and 5 is \", 4 + 5)\n",
        "print(\"The product of 4 and 5 is \", 4 * 5)\n",
        "```"
      ]
    },
    {
      "cell_type": "code",
      "metadata": {
        "id": "FFAlwflQuBVm"
      },
      "source": [
        "print(\"The sum of 4 and 5 is\",4+5)"
      ],
      "execution_count": null,
      "outputs": []
    },
    {
      "cell_type": "markdown",
      "metadata": {
        "id": "pZZgbz-HvR0V"
      },
      "source": [
        "<h4> Extras (Exercise 2) </h4>\n",
        "\n",
        "**Think:** There are two separate codes below that look similar but have small differences. Will they both give you the same result?\n",
        "\n",
        "```\n",
        "print(\"4 + 5\")\n",
        "```\n",
        "\n",
        "```\n",
        "print(4 + 5)\n",
        "```\n",
        "\n",
        "Try them below. What is the difference?"
      ]
    },
    {
      "cell_type": "code",
      "metadata": {
        "id": "E80MgWVbwp_o"
      },
      "source": [
        ""
      ],
      "execution_count": null,
      "outputs": []
    },
    {
      "cell_type": "markdown",
      "metadata": {
        "id": "jNtvFqKBw0If"
      },
      "source": [
        "**<h3>Exercise 3</h3>**\n",
        "\n",
        "Try the following:\n",
        "\n",
        "```\n",
        "print(\"4 - 5 is \", 4 - 5)\n",
        "print(\"67 divided by -2 is \", 67 / (-2))\n",
        "print(\"The reminder of 17 divided by 5 is \", 17 % 5)\n",
        "print(\"3 squared is equal to\", 3**2)\n",
        "```"
      ]
    },
    {
      "cell_type": "code",
      "metadata": {
        "id": "pV5LxTr7zZ1u"
      },
      "source": [
        ""
      ],
      "execution_count": null,
      "outputs": []
    },
    {
      "cell_type": "markdown",
      "metadata": {
        "id": "ALw0Gjdgzp5-"
      },
      "source": [
        "<h4> Extras (Exercise 3):</h4>\n",
        "\n",
        "**Note:**\n",
        "1. In Python the exponent/power operator is <b>**</b>, not <b>^</b>.\n",
        "2. The <b>%</b> operator is called 'modulo' operator. It gives remainder of a divison.\n",
        "\n",
        "\n",
        "\n",
        "<b>Think:</b>\n",
        "\n",
        "Say while typing '4 - 5' your hand slipped and you typed 56 instead of 5 one of the times. What do you expect the output to be for:\n",
        "```\n",
        "print(\"4 - 56 = \", 4 - 5)\n",
        "```\n",
        "```\n",
        "print(\"4 - 5 = \", 4 - 56)\n",
        "```\n",
        "Try them to confirm your answer.\n",
        "\n",
        "&nbsp;\n",
        "\n",
        "**Try:**\n",
        "\n",
        "What is the difference between these:\n",
        "```\n",
        "print(\"4 - 5 = \", 4 - 5)\n",
        "```\n",
        "```\n",
        "print(\"4 - 5 = \",4-5)\n",
        "```\n",
        "```\n",
        "print(\"4- 5= \",4- 5)\n",
        "```"
      ]
    },
    {
      "cell_type": "code",
      "metadata": {
        "id": "QzR29me23mr1"
      },
      "source": [
        ""
      ],
      "execution_count": null,
      "outputs": []
    },
    {
      "cell_type": "markdown",
      "metadata": {
        "id": "-Yk-xRCwnoRh"
      },
      "source": [
        "# Variables"
      ]
    },
    {
      "cell_type": "markdown",
      "metadata": {
        "id": "fvNLBn4an1Dz"
      },
      "source": [
        "Anything interesting involves change. Variables help us keep track of things in a changing world, and are very important in programming. \n",
        "\n",
        "Think of each variable as an empty box in which you can store data. This data can be a number, a character, a word, or more complex things. \n",
        "\n",
        "Now, run the following program and observe the output."
      ]
    },
    {
      "cell_type": "markdown",
      "metadata": {
        "id": "wzJlpYiRbvSf"
      },
      "source": [
        "<h3>Demo</h3>\n"
      ]
    },
    {
      "cell_type": "code",
      "metadata": {
        "id": "l1rNvIcucb4g"
      },
      "source": [
        "myName = \"Uvuwewe Onyetenyevwe Ugwemuhwem Osas\"\n",
        "myHeight = 183  #Height in cm\n",
        "myAge = 29\n",
        "myTwinsAge = myAge\n",
        "\n",
        "print(\"Hello. My name is\", myName)\n",
        "print(\"My height is\", myHeight, \"in centimeters\")\n",
        "print(\"This year my age is\", myAge, \"but last year it was\", myAge - 1)\n",
        "print(\"My twin's age is\", myTwinsAge)"
      ],
      "execution_count": null,
      "outputs": []
    },
    {
      "cell_type": "markdown",
      "metadata": {
        "id": "HfJ59ZvlvOEj"
      },
      "source": [
        "**Note:** look at the text in the second line. After assigning value to 'myHeight', there is a \"comment\" beginning with a #. Find out what a comment is, and how to write comments in python.\n",
        "\n",
        "&nbsp;\n",
        "\n",
        "**Think:** What is the advantage of writing ```myTwinsAge = myAge``` instead of ```myTwinsAge = 29```\n",
        "\n",
        "&nbsp;\n",
        "\n",
        "**Think and try:** How would the output change if instead of 'myName' we used 'x'?"
      ]
    },
    {
      "cell_type": "markdown",
      "metadata": {
        "id": "14a217Bq2qRJ"
      },
      "source": [
        "<h2> Variable Types </h2>\n",
        "\n",
        "\n",
        "Like drugs, variables come in different flavours. There are different **classes** of variables in pythons depending on the **kind of data they store**.\n"
      ]
    },
    {
      "cell_type": "code",
      "metadata": {
        "id": "yqGEhVua22lO"
      },
      "source": [
        "print(\"The type of variable myName is\", type(myName))\n",
        "print(\"The type of variable myAge is\", type(myAge))\n",
        "\n",
        "pi = 3.1416\n",
        "\n",
        "print(\"The type of variable pi is\", type(pi))"
      ],
      "execution_count": null,
      "outputs": []
    },
    {
      "cell_type": "markdown",
      "metadata": {
        "id": "RVPcbu-g-sTW"
      },
      "source": [
        "**Discuss:** string, integer, float\n",
        "\n",
        "&nbsp;\n"
      ]
    },
    {
      "cell_type": "markdown",
      "metadata": {
        "id": "syVASaff_UfC"
      },
      "source": [
        "<h2> Overwriting Variables </h2>\n",
        "\n",
        "In Python programming the '=' sign is not equality. It is the 'assignment' operator. We are essentially taking the value on right side and putting ('assigning') that into the variable on left side.\n",
        "\n",
        "In this process we essentially throw away any existing value in the variable.\n",
        "\n",
        "Let's try this with an example."
      ]
    },
    {
      "cell_type": "code",
      "metadata": {
        "id": "_JF4V3yQAUtB"
      },
      "source": [
        "Some_Number = 45\n",
        "Some_Word = \"Shaktimaan\"\n",
        "\n",
        "print(\"BEFORE OVERWRITING: \")\n",
        "print(\"The value stored in Some_Number is\", Some_Number, \"and the variable type is\", type(Some_Number))\n",
        "print(\"The value stored in Some_Word is\", Some_Word, \"and the variable type is\", type(Some_Word))\n",
        "print(\"\")  ##For extra space\n",
        "\n",
        "Some_Word = Some_Number\n",
        "\n",
        "print(\"AFTER OVERWRITING: \")\n",
        "print(\"The value stored in Some_Number is\", Some_Number, \"and the variable type is\", type(Some_Number))\n",
        "print(\"The value stored in Some_Word is\", Some_Word, \"and the variable type is\", type(Some_Word))\n"
      ],
      "execution_count": null,
      "outputs": []
    },
    {
      "cell_type": "markdown",
      "metadata": {
        "id": "LVlE5F8MBIob"
      },
      "source": [
        "**Think and Try:** What will happen to output if you reversed the assignment, ie exchanged left and right side in assignment operation.\n",
        "\n",
        "&nbsp;"
      ]
    },
    {
      "cell_type": "markdown",
      "metadata": {
        "id": "ari8dF09wHQ1"
      },
      "source": [
        "**<h3>Excercise 4</h3>**\n",
        "\n",
        "Write a program to swap the values stored in two variables, **num1** and **num2**.\n"
      ]
    },
    {
      "cell_type": "code",
      "metadata": {
        "id": "K3XCfqINw5AH"
      },
      "source": [
        "num1 = 56\n",
        "num2 = 17\n",
        "\n",
        "print(\"Before Swapping: The value stored in num1 is\", num1, \"and in num2 is\", num2 )\n",
        "#Put your code for swapping the two numbers in this space: \n",
        "\n",
        "\n",
        "\n",
        "\n",
        "#Do not change the following line:\n",
        "print(\"After Swapping: The value stored in num1 is\", num1, \"and in num2 is\", num2)"
      ],
      "execution_count": null,
      "outputs": []
    },
    {
      "cell_type": "markdown",
      "metadata": {
        "id": "NHLHRGNC1wxr"
      },
      "source": [
        "&nbsp;\n",
        "\n",
        "Hint: imagine that you have stored daal in a cup and sambaar in a bowl. You want to exchange the two so that the bowl has the daal and the cup has the sambaar. What do you need for this?"
      ]
    },
    {
      "cell_type": "markdown",
      "metadata": {
        "id": "vML08oIPrleF"
      },
      "source": [
        "**<h3> Exercise 5 </h3>**\n",
        "\n",
        "Do the following:\n",
        "1. Define a variable of your choice of type 'float'. Confirm its type using print(type(...))\n",
        "\n",
        "2. Define a variable of your choice of type 'int'. Confirm its type similarly.\n",
        "\n",
        "3. Define a third variable as a mathematical function of the first two variables. eg: v3 = v1 * v2. Try different operators. Output the value of the third variable as well as its type."
      ]
    },
    {
      "cell_type": "code",
      "metadata": {
        "id": "t-3Add36rjh-"
      },
      "source": [
        ""
      ],
      "execution_count": null,
      "outputs": []
    },
    {
      "cell_type": "markdown",
      "metadata": {
        "id": "inxSg5GFscxG"
      },
      "source": [
        "<h4> Extras (Exercise 4) </h4>\n",
        "\n",
        "**Try:**  Add an int or a float to an str."
      ]
    },
    {
      "cell_type": "code",
      "metadata": {
        "id": "FFm5oZcAtvBy"
      },
      "source": [
        ""
      ],
      "execution_count": null,
      "outputs": []
    },
    {
      "cell_type": "markdown",
      "metadata": {
        "id": "Q8RzZLlguBE_"
      },
      "source": [
        "<h2>Strings</h2>\n",
        "\n",
        "Strings are basically series of characters. They are a different type of data.\n",
        "\n",
        "Examples of data best stored in strings: passwords, names, keywords, DNA sequences, etc.\n",
        "\n",
        "Look at the code below:"
      ]
    },
    {
      "cell_type": "code",
      "metadata": {
        "id": "Pvn8lzRsufvJ"
      },
      "source": [
        "string1 = \"Shakuntala\"\n",
        "string2 = \"Devi\"\n",
        "\n",
        "print(\"Her name is\", string1 + string2)"
      ],
      "execution_count": null,
      "outputs": []
    },
    {
      "cell_type": "markdown",
      "metadata": {
        "id": "I4ITFUZVtvqt"
      },
      "source": [
        "<h3> Numbers as string characters </h3>\n",
        "\n",
        "Numbers can double up as both numeric types such as int and float, and also as characters in a string. Let's see some examples."
      ]
    },
    {
      "cell_type": "code",
      "metadata": {
        "id": "EnIA07UJzCOS"
      },
      "source": [
        "print(type(5))    #type() function works for constants as well.\n",
        "print(type(\"5\"))\n",
        "\n",
        "num_five = 5\n",
        "str_five = str(num_five)   #Convert num_five to a string first. Also known as 'typecasting'\n",
        "\n",
        "print(\" \")\n",
        "print(type(num_five))\n",
        "print(type(str_five))"
      ],
      "execution_count": null,
      "outputs": []
    },
    {
      "cell_type": "code",
      "metadata": {
        "id": "jEgQsMRDziIv"
      },
      "source": [
        "num_1 = 5\n",
        "num_2 = 6\n",
        "\n",
        "print(\"Adding as integers gives you\", num_1 + num_2)\n",
        "print(\"Adding as floats gives you\", float(num_1) + float(num_2))\n",
        "print(\"Adding as strings gives you\", str(num_1) + str(num_2))"
      ],
      "execution_count": null,
      "outputs": []
    },
    {
      "cell_type": "markdown",
      "metadata": {
        "id": "TcHPZlrR2Phn"
      },
      "source": [
        "<h3> Exercise 7 </h3>\n",
        "\n",
        "Look at the following code, and predict the output of each print statement. Then run and test your prediction."
      ]
    },
    {
      "cell_type": "code",
      "metadata": {
        "id": "sRCVJw_I0cMM"
      },
      "source": [
        "str_1 = \"5\"\n",
        "str_2 = \"6\"\n",
        "\n",
        "print(str_1 + str_2)\n",
        "print(int(str_1) + int(str_2))\n",
        "print(int(str_1 + str_2))\n",
        "print(int(str_1) + str_2)"
      ],
      "execution_count": null,
      "outputs": []
    },
    {
      "cell_type": "markdown",
      "metadata": {
        "id": "9HoNwVfHrZ2L"
      },
      "source": [
        "**Think:** We in fact used a string constant in the first program we wrote (printing 'hello world'). Can you point out the string used? Can you rewrite the same program using a string variable?"
      ]
    },
    {
      "cell_type": "markdown",
      "metadata": {
        "id": "feJhwSODOaT9"
      },
      "source": [
        "# Wrap-Up Exercises\n",
        "\n",
        "For the below exercises, it is a good idea to discuss the problem as a group before attempting to solve them.\n",
        "\n",
        "<h3> Exercise 8 </h3>\n",
        "\n",
        "Write a program that takes a given 3-digit natural number, and prints out the sum of its digits."
      ]
    },
    {
      "cell_type": "code",
      "metadata": {
        "id": "cIIHgVFpPPuE"
      },
      "source": [
        "given_number = 346 #Try out different numbers here. Your code should work for any 3-digit number.\n",
        "\n",
        "# Insert your code below:"
      ],
      "execution_count": null,
      "outputs": []
    },
    {
      "cell_type": "markdown",
      "metadata": {
        "id": "RtlgQp68QnP2"
      },
      "source": [
        "<b>SAMPLE OUTPUTS:</b>\n",
        "\n",
        "```The sum of digits of 456 is 15.```\n",
        "\n",
        "```The sum of digits of 268 is 16.```\n"
      ]
    },
    {
      "cell_type": "markdown",
      "metadata": {
        "id": "9AeLzvirPQuP"
      },
      "source": [
        "<h3> Exercise 9 </h3>\n",
        "\n",
        "Write a program that takes as input a 5-digit binary number, and prints out its decimal equivalent. "
      ]
    },
    {
      "cell_type": "code",
      "metadata": {
        "id": "DEogdoyUQiJj"
      },
      "source": [
        ""
      ],
      "execution_count": null,
      "outputs": []
    },
    {
      "cell_type": "markdown",
      "metadata": {
        "id": "92wwoZFqqzOT"
      },
      "source": [
        "# So What Did We Learn Today?\n",
        "\n",
        "* Printing strings, integers, and floats.\n",
        "* Computing and printing the results of arithmatic expressions.\n",
        "* Variables - assignment, types, typecasting.\n"
      ]
    }
  ]
}
